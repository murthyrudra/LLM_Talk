{
 "cells": [
  {
   "cell_type": "code",
   "execution_count": 1,
   "id": "f1f08ebc-3f0c-4dbe-9683-be2aa2d0eac1",
   "metadata": {},
   "outputs": [
    {
     "name": "stdout",
     "output_type": "stream",
     "text": [
      "Collecting gensim\n",
      "  Downloading gensim-4.3.1-cp310-cp310-macosx_10_9_x86_64.whl (24.0 MB)\n",
      "\u001b[2K     \u001b[90m━━━━━━━━━━━━━━━━━━━━━━━━━━━━━━━━━━━━━━━━\u001b[0m \u001b[32m24.0/24.0 MB\u001b[0m \u001b[31m10.2 MB/s\u001b[0m eta \u001b[36m0:00:00\u001b[0m00:01\u001b[0m00:01\u001b[0m\n",
      "\u001b[?25hRequirement already satisfied: numpy>=1.18.5 in /Users/rudramurthy/anaconda3/envs/py310/lib/python3.10/site-packages (from gensim) (1.25.2)\n",
      "Requirement already satisfied: scipy>=1.7.0 in /Users/rudramurthy/anaconda3/envs/py310/lib/python3.10/site-packages (from gensim) (1.11.2)\n",
      "Collecting smart-open>=1.8.1 (from gensim)\n",
      "  Downloading smart_open-6.3.0-py3-none-any.whl (56 kB)\n",
      "\u001b[2K     \u001b[90m━━━━━━━━━━━━━━━━━━━━━━━━━━━━━━━━━━━━━━━━\u001b[0m \u001b[32m56.8/56.8 kB\u001b[0m \u001b[31m4.5 MB/s\u001b[0m eta \u001b[36m0:00:00\u001b[0m\n",
      "\u001b[?25hInstalling collected packages: smart-open, gensim\n",
      "Successfully installed gensim-4.3.1 smart-open-6.3.0\n"
     ]
    }
   ],
   "source": [
    "!pip install gensim"
   ]
  },
  {
   "cell_type": "code",
   "execution_count": 2,
   "id": "cf7da315-de72-48ff-997f-75e1d619a99b",
   "metadata": {},
   "outputs": [
    {
     "name": "stderr",
     "output_type": "stream",
     "text": [
      "/Users/rudramurthy/anaconda3/envs/py310/lib/python3.10/site-packages/tqdm/auto.py:21: TqdmWarning: IProgress not found. Please update jupyter and ipywidgets. See https://ipywidgets.readthedocs.io/en/stable/user_install.html\n",
      "  from .autonotebook import tqdm as notebook_tqdm\n"
     ]
    }
   ],
   "source": [
    "import gensim\n",
    "from gensim.models import Word2Vec\n",
    "from datasets import load_dataset\n",
    "from tqdm import tqdm\n",
    "from nltk.tokenize import word_tokenize"
   ]
  },
  {
   "cell_type": "code",
   "execution_count": 3,
   "id": "762da1dc-9328-415b-a57a-78d1891542fd",
   "metadata": {},
   "outputs": [
    {
     "data": {
      "text/plain": [
       "DatasetDict({\n",
       "    test: Dataset({\n",
       "        features: ['text'],\n",
       "        num_rows: 4358\n",
       "    })\n",
       "    train: Dataset({\n",
       "        features: ['text'],\n",
       "        num_rows: 1801350\n",
       "    })\n",
       "    validation: Dataset({\n",
       "        features: ['text'],\n",
       "        num_rows: 3760\n",
       "    })\n",
       "})"
      ]
     },
     "execution_count": 3,
     "metadata": {},
     "output_type": "execute_result"
    }
   ],
   "source": [
    "dataset = load_dataset(\"wikitext\", \"wikitext-103-v1\")\n",
    "dataset"
   ]
  },
  {
   "cell_type": "code",
   "execution_count": 4,
   "id": "27ef811c-31a6-47a0-99af-40dce4fd2a3c",
   "metadata": {},
   "outputs": [
    {
     "name": "stderr",
     "output_type": "stream",
     "text": [
      "For every sentence: 100%|████████████████████████████████████████████████████████████████████████████████████████████████████████████████████████████████████████████████| 1801350/1801350 [06:43<00:00, 4458.88it/s]\n"
     ]
    },
    {
     "name": "stdout",
     "output_type": "stream",
     "text": [
      "['=', 'Valkyria', 'Chronicles', 'III', '=']\n"
     ]
    }
   ],
   "source": [
    "sentences = []\n",
    "for each_sentence in tqdm(dataset['train']['text'], desc=\"For every sentence\"):\n",
    "    if len(each_sentence) == 0:\n",
    "        continue\n",
    "    each_sentence = each_sentence.strip()\n",
    "    sentences.append(word_tokenize(each_sentence))\n",
    "\n",
    "print(sentences[0])"
   ]
  },
  {
   "cell_type": "markdown",
   "id": "d05cba75-d187-438e-a8a0-ab897f2e8926",
   "metadata": {},
   "source": [
    "## Let us train a CBOW model"
   ]
  },
  {
   "cell_type": "code",
   "execution_count": 5,
   "id": "259db662-eb4e-4f80-a8c5-fbf0c4167464",
   "metadata": {},
   "outputs": [],
   "source": [
    " # Create CBOW model\n",
    "model_cbow = gensim.models.Word2Vec(sentences, min_count = 100,\n",
    "                              vector_size = 50, window = 5)"
   ]
  },
  {
   "cell_type": "markdown",
   "id": "daef8423-da3e-4d9a-9160-e2fc392bc560",
   "metadata": {},
   "source": [
    "### Let us evaluate the word embeddings now"
   ]
  },
  {
   "cell_type": "code",
   "execution_count": 7,
   "id": "90becc85-764e-4103-a754-ed1a96462c47",
   "metadata": {},
   "outputs": [
    {
     "name": "stdout",
     "output_type": "stream",
     "text": [
      "Cosine similarity between 'king' and 'queen' - CBOW :  0.7905216\n",
      "Cosine similarity between 'king' and 'emperor' - CBOW :  0.91354614\n",
      "Cosine similarity between 'king' and 'computer' - CBOW :  -0.12640522\n"
     ]
    }
   ],
   "source": [
    "# Print results\n",
    "print(\"Cosine similarity between 'king' and 'queen' - CBOW : \",\n",
    "    model_cbow.wv.similarity('king', 'queen'))\n",
    "\n",
    "print(\"Cosine similarity between 'king' and 'emperor' - CBOW : \",\n",
    "    model_cbow.wv.similarity('king', 'emperor'))\n",
    "\n",
    "print(\"Cosine similarity between 'king' and 'computer' - CBOW : \",\n",
    "    model_cbow.wv.similarity('king', 'computer'))"
   ]
  },
  {
   "cell_type": "markdown",
   "id": "2be6f41c-315f-4dff-a72d-ae2dedc241c9",
   "metadata": {},
   "source": [
    "## Let us train a Skipgram model"
   ]
  },
  {
   "cell_type": "code",
   "execution_count": null,
   "id": "35e86c24-dc94-4808-82e9-be8de1f9eb1c",
   "metadata": {},
   "outputs": [],
   "source": [
    "# Create Skip Gram model\n",
    "model_sg = gensim.models.Word2Vec(sentences, min_count = 100,\n",
    "                              vector_size = 50, window = 5, sg = 1)"
   ]
  },
  {
   "cell_type": "markdown",
   "id": "167ecb35-b6cb-4715-aeb4-aed5894c62d0",
   "metadata": {},
   "source": [
    "### Let us evaluate the word embeddings now"
   ]
  },
  {
   "cell_type": "code",
   "execution_count": null,
   "id": "ebac0783-66a0-4dfb-9f81-60fccbde75e9",
   "metadata": {},
   "outputs": [],
   "source": [
    "# Print results\n",
    "print(\"Cosine similarity between 'king' and 'queen' - Skipgram : \",\n",
    "    model_cbow.wv.similarity('king', 'queen'))\n",
    "\n",
    "print(\"Cosine similarity between 'king' and 'emperor' - Skipgram : \",\n",
    "    model_cbow.wv.similarity('king', 'emperor'))"
   ]
  }
 ],
 "metadata": {
  "kernelspec": {
   "display_name": "Python 3 (ipykernel)",
   "language": "python",
   "name": "python3"
  },
  "language_info": {
   "codemirror_mode": {
    "name": "ipython",
    "version": 3
   },
   "file_extension": ".py",
   "mimetype": "text/x-python",
   "name": "python",
   "nbconvert_exporter": "python",
   "pygments_lexer": "ipython3",
   "version": "3.10.12"
  }
 },
 "nbformat": 4,
 "nbformat_minor": 5
}
