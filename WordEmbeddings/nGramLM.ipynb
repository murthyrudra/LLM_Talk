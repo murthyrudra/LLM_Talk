{
 "cells": [
  {
   "cell_type": "code",
   "execution_count": null,
   "id": "0cc648f0-b8ab-42e0-8cec-d55594ce4ea9",
   "metadata": {
    "scrolled": true
   },
   "outputs": [],
   "source": [
    "!pip install datasets tqdm"
   ]
  },
  {
   "cell_type": "markdown",
   "id": "88d403ed-cd5a-402f-a28a-69bfb1de71df",
   "metadata": {},
   "source": [
    "## Download wikitext dataset and convert to list of list"
   ]
  },
  {
   "cell_type": "code",
   "execution_count": null,
   "id": "e2e898ad-d4e7-4bbf-a5cb-bcb5f690787c",
   "metadata": {},
   "outputs": [],
   "source": [
    "from nltk.tokenize import word_tokenize\n",
    "from datasets import load_dataset\n",
    "from tqdm import tqdm"
   ]
  },
  {
   "cell_type": "code",
   "execution_count": null,
   "id": "91a9eb8f-e741-441c-8b92-7d3e8212a8fc",
   "metadata": {},
   "outputs": [],
   "source": [
    "dataset = load_dataset(\"wikitext\", \"wikitext-103-v1\")\n",
    "dataset"
   ]
  },
  {
   "cell_type": "code",
   "execution_count": null,
   "id": "4a5e29ec-a35e-4e8e-9f84-0689bef736c0",
   "metadata": {
    "scrolled": true
   },
   "outputs": [],
   "source": [
    "sentences = []\n",
    "for each_sentence in tqdm(dataset['train']['text'], desc=\"For every sentence\"):\n",
    "    if len(each_sentence) == 0:\n",
    "        continue\n",
    "    each_sentence = each_sentence.strip()\n",
    "    sentences.append(word_tokenize(each_sentence))\n",
    "\n",
    "print(sentences[0])"
   ]
  },
  {
   "cell_type": "markdown",
   "id": "890bc0a2-9699-42a4-b578-819b859f2a36",
   "metadata": {},
   "source": [
    "### Let us create padded quadgrams"
   ]
  },
  {
   "cell_type": "code",
   "execution_count": null,
   "id": "f1e7f5ca-5cb8-4135-b926-068ef0bd9dfb",
   "metadata": {},
   "outputs": [],
   "source": [
    "from nltk.lm.preprocessing import padded_everygram_pipeline\n",
    "\n",
    "everygram_sentence, padded_stream_words = padded_everygram_pipeline(4, sentences)\n"
   ]
  },
  {
   "cell_type": "markdown",
   "id": "5e0671f4-a409-45cd-826b-43c3aae2286b",
   "metadata": {},
   "source": [
    "### Let us train a KneserNeyInterpolated"
   ]
  },
  {
   "cell_type": "code",
   "execution_count": null,
   "id": "20420f23-7972-48f8-afd4-24cfebe88ab0",
   "metadata": {},
   "outputs": [],
   "source": [
    "from nltk.lm.models import KneserNeyInterpolated\n",
    "\n",
    "lm = KneserNeyInterpolated(4)\n",
    "lm.fit(everygram_sentence, padded_stream_words)"
   ]
  },
  {
   "cell_type": "markdown",
   "id": "614c9c5c-466b-49f2-86e4-aa856903dee9",
   "metadata": {},
   "source": [
    "### We can score sentences now"
   ]
  },
  {
   "cell_type": "code",
   "execution_count": null,
   "id": "e7f21c93-2e3d-4bc7-8f61-814e1de74518",
   "metadata": {},
   "outputs": [],
   "source": [
    "lm.score(\"west\", [\"The\", \"sun\", \"rises\", \"in\", \"the\"])"
   ]
  },
  {
   "cell_type": "code",
   "execution_count": null,
   "id": "b8ef568f-d5b8-460a-8712-e5254167c832",
   "metadata": {},
   "outputs": [],
   "source": [
    "lm.score(\"east\", [\"The\", \"sun\", \"rises\", \"in\", \"the\"])"
   ]
  },
  {
   "cell_type": "markdown",
   "id": "645c6c21-d33d-4545-9b63-a8f57d1c40ee",
   "metadata": {},
   "source": [
    "### We can also let the model generate sentences/words"
   ]
  },
  {
   "cell_type": "code",
   "execution_count": null,
   "id": "d5a7e83c-246f-4cfc-8f03-b21bb082f4cf",
   "metadata": {},
   "outputs": [],
   "source": [
    "lm.generate(5, text_seed=[\"The\", \"sun\", \"rises\", \"in\", \"the\"], random_seed=3)"
   ]
  },
  {
   "cell_type": "markdown",
   "id": "c77c349c-4037-46e4-8015-af17e05b150e",
   "metadata": {},
   "source": [
    "### Let us train a Laplace"
   ]
  },
  {
   "cell_type": "code",
   "execution_count": null,
   "id": "ce53e6f7-7460-4fec-9cff-61d1d28eaede",
   "metadata": {},
   "outputs": [],
   "source": [
    "from nltk.lm.models import Laplace\n",
    "\n",
    "everygram_sentence, padded_stream_words = padded_everygram_pipeline(4, sentences)\n",
    "lm = Laplace(4)\n",
    "lm.fit(everygram_sentence, padded_stream_words)"
   ]
  },
  {
   "cell_type": "markdown",
   "id": "b9c2f14a-4c7d-4f29-be37-2dbfd9e5c2ce",
   "metadata": {},
   "source": [
    "### We can score sentences now"
   ]
  },
  {
   "cell_type": "code",
   "execution_count": null,
   "id": "9461b362-a950-4c96-8e2e-846367ffbad2",
   "metadata": {},
   "outputs": [],
   "source": [
    "lm.score(\"west\", [\"The\", \"sun\", \"rises\", \"in\", \"the\"])"
   ]
  },
  {
   "cell_type": "code",
   "execution_count": null,
   "id": "4c6d9bfc-4ecd-4ebc-b793-70f713dab05b",
   "metadata": {},
   "outputs": [],
   "source": [
    "lm.score(\"east\", [\"The\", \"sun\", \"rises\", \"in\", \"the\"])"
   ]
  },
  {
   "cell_type": "markdown",
   "id": "28300a5b-bdff-455f-a2fc-98712c54f840",
   "metadata": {},
   "source": [
    "### We can also let the model generate sentences/words"
   ]
  },
  {
   "cell_type": "code",
   "execution_count": null,
   "id": "f8766712-d5b0-4f93-98db-21541ddcf763",
   "metadata": {},
   "outputs": [],
   "source": [
    "lm.generate(5, text_seed=[\"The\", \"sun\", \"rises\", \"in\", \"the\"], random_seed=3)"
   ]
  },
  {
   "cell_type": "code",
   "execution_count": null,
   "id": "2482ce95-4a47-4a87-ad32-a25407cbc938",
   "metadata": {},
   "outputs": [],
   "source": []
  }
 ],
 "metadata": {
  "kernelspec": {
   "display_name": "Python 3 (ipykernel)",
   "language": "python",
   "name": "python3"
  },
  "language_info": {
   "codemirror_mode": {
    "name": "ipython",
    "version": 3
   },
   "file_extension": ".py",
   "mimetype": "text/x-python",
   "name": "python",
   "nbconvert_exporter": "python",
   "pygments_lexer": "ipython3",
   "version": "3.10.12"
  }
 },
 "nbformat": 4,
 "nbformat_minor": 5
}
